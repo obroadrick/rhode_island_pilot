{
 "cells": [
  {
   "cell_type": "markdown",
   "metadata": {},
   "source": [
    "This notebook does the computations needed during the audit. It can:\n",
    "1. Compute the round size that achieves a desired stopping probability.\n",
    "2. Compute the risk for a given sample (ie. compute the stopping condition).\n",
    "\n",
    "This notebook uses the 'r2b2' open source ballot-polling audit software library:\n",
    "https://github.com/gwexploratoryaudits/r2b2"
   ]
  },
  {
   "cell_type": "code",
   "execution_count": 59,
   "metadata": {},
   "outputs": [],
   "source": [
    "# Imports\n",
    "from r2b2.contest import ContestType, Contest\n",
    "from r2b2.minerva2 import Minerva2\n",
    "from r2b2.minerva import Minerva\n",
    "from r2b2.eor_bravo import EOR_BRAVO\n",
    "from r2b2.so_bravo import SO_BRAVO\n",
    "import pandas as pd\n",
    "import numpy as np"
   ]
  },
  {
   "cell_type": "code",
   "execution_count": 60,
   "metadata": {},
   "outputs": [],
   "source": [
    "# Contest: School Construction and Renovation Projects\n",
    "# Link to results: https://elections.ri.gov/publications/Election_Publications/Election_Info/LocalElections/11-2-21%20Portsmouth.pdf\n",
    "contest_name = \"\\nSchool Construction and Renovation Projects\"\n",
    "tally = {'Approve' : 2391, 'Reject' : 1414}"
   ]
  },
  {
   "cell_type": "markdown",
   "metadata": {},
   "source": [
    "Now we set the audit parameters."
   ]
  },
  {
   "cell_type": "code",
   "execution_count": 61,
   "metadata": {},
   "outputs": [
    {
     "name": "stdout",
     "output_type": "stream",
     "text": [
      "\n",
      "School Construction and Renovation Projects\n",
      "Tally: {'Approve': 2391, 'Reject': 1414}\n",
      "Total Ballots: 3805\n",
      "Margin: 0.2567674113009198\n",
      "Stopping Probability: 0.9\n",
      "Risk Limit: 0.1\n"
     ]
    }
   ],
   "source": [
    "# Set the desired stopping probability for the first round\n",
    "sprob = .9\n",
    "\n",
    "# Set the risk-limit\n",
    "risk_limit = .1\n",
    "\n",
    "# Some useful constants\n",
    "reported_winner = max(tally, key=tally.get) \n",
    "winner_votes = tally[reported_winner]\n",
    "total_relevant = sum(tally.values())\n",
    "loser_votes = total_relevant - winner_votes\n",
    "margin = (winner_votes / total_relevant) - (loser_votes / total_relevant)\n",
    "\n",
    "# Make the contest object\n",
    "contest_reported = Contest(total_relevant, \n",
    "                            tally, \n",
    "                            num_winners=1, \n",
    "                            reported_winners=[reported_winner],\n",
    "                            contest_type=ContestType.PLURALITY)\n",
    "\n",
    "# Make the audit objects. While we are running a Minerva 2.0 audit, we might as well compute other ballot-polling RLA numbers...                                                                                                                                                                                                                                                                                                                                                                                                                                                                                                                                                                                                                                                                                                                                                                                                                                                                                                                                                                                                                                                                                                                                                                                                                                                                                                                                                                                                                                                                                                                                                                                                                                                                                                                                                                               \n",
    "minerva2 = Minerva2(risk_limit, 1.0, contest_reported)\n",
    "minerva = Minerva(risk_limit, 1.0, contest_reported)\n",
    "so_bravo = SO_BRAVO(risk_limit, 1.0, contest_reported)\n",
    "eor_bravo = EOR_BRAVO(risk_limit, 1.0, contest_reported)\n",
    "\n",
    "# Print out the audit parameters\n",
    "print(contest_name)\n",
    "print(\"Tally: {}\".format(tally))\n",
    "print(\"Total Ballots: {}\".format(sum(tally.values())))\n",
    "print(\"Margin: {}\".format(margin))\n",
    "print(\"Stopping Probability: {}\".format(sprob))\n",
    "print(\"Risk Limit: {}\".format(risk_limit))"
   ]
  },
  {
   "cell_type": "markdown",
   "metadata": {},
   "source": [
    "# First round size\n",
    "Now let's compute the first round size!"
   ]
  },
  {
   "cell_type": "code",
   "execution_count": 62,
   "metadata": {},
   "outputs": [
    {
     "name": "stdout",
     "output_type": "stream",
     "text": [
      "First round size 105 for Minerva 2.0\n",
      "First round size 105 for Minerva\n",
      "First round size 148 for SO BRAVO\n",
      "First round size 213 for EoR BRAVO\n"
     ]
    }
   ],
   "source": [
    "minerva2_data = (minerva2, \"Minerva 2.0\", minerva2.next_sample_size(sprob))\n",
    "minerva_data = (minerva, \"Minerva\", minerva.next_sample_size(sprob))\n",
    "so_bravo_data = (so_bravo, \"SO BRAVO\", so_bravo.next_sample_size(sprob))\n",
    "eor_bravo_data = (eor_bravo, \"EoR BRAVO\", eor_bravo.next_sample_size(sprob))\n",
    "\n",
    "data = (minerva2_data, minerva_data, so_bravo_data, eor_bravo_data)\n",
    "\n",
    "# Print results\n",
    "for audit, name, first_round_size in data:\n",
    "    print(\"First round size {} for {}\".format(first_round_size, name))"
   ]
  },
  {
   "cell_type": "markdown",
   "metadata": {},
   "source": [
    "Note that Minerva 2.0 and its predecessor Minerva 1.0 are the exact same in the first round. (So the same first round size for each of them makes sense.)\n",
    "# First round stopping condition\n",
    "Now here is a skeleton of the code that will be used for computing the risk after the first round is drawn."
   ]
  },
  {
   "cell_type": "code",
   "execution_count": 63,
   "metadata": {},
   "outputs": [
    {
     "name": "stdout",
     "output_type": "stream",
     "text": [
      "{'Approve': 65, 'Reject': 40, 'Approve_so': array([1, 1, 1, 0, 0, 1, 1, 0, 0, 1, 1, 0, 0, 0, 1, 1, 1, 1, 1, 0, 0, 0,\n",
      "       0, 1, 0, 1, 1, 1, 1, 1, 1, 1, 0, 1, 1, 1, 0, 0, 1, 1, 1, 1, 0, 0,\n",
      "       0, 1, 1, 1, 1, 0, 0, 1, 1, 1, 0, 1, 1, 0, 0, 1, 1, 1, 0, 1, 1, 0,\n",
      "       1, 1, 1, 0, 1, 0, 1, 0, 1, 1, 1, 1, 1, 1, 0, 1, 0, 0, 0, 0, 1, 0,\n",
      "       1, 1, 0, 1, 1, 0, 0, 0, 1, 1, 1, 1, 0, 1, 1, 1, 0]), 'Reject_so': array([0, 0, 0, 1, 1, 0, 0, 1, 1, 0, 0, 1, 1, 1, 0, 0, 0, 0, 0, 1, 1, 1,\n",
      "       1, 0, 1, 0, 0, 0, 0, 0, 0, 0, 1, 0, 0, 0, 1, 1, 0, 0, 0, 0, 1, 1,\n",
      "       1, 0, 0, 0, 0, 1, 1, 0, 0, 0, 1, 0, 0, 1, 1, 0, 0, 0, 1, 0, 0, 1,\n",
      "       0, 0, 0, 1, 0, 1, 0, 1, 0, 0, 0, 0, 0, 0, 1, 0, 1, 1, 1, 1, 0, 1,\n",
      "       0, 0, 1, 0, 0, 1, 1, 1, 0, 0, 0, 0, 1, 0, 0, 0, 1])}\n"
     ]
    }
   ],
   "source": [
    "# First round sample from csv\n",
    "filename = 'test_sample_.csv' #TODO change to the actual sample found during the audit!\n",
    "df = pd.read_csv(filename)\n",
    "df_array = df.to_numpy()\n",
    "sample = {\n",
    "    'Approve': sum(df_array[:,1]),\n",
    "    'Reject': sum(df_array[:,2]),\n",
    "    'Approve_so': df_array[:,1],\n",
    "    'Reject_so': df_array[:,2],\n",
    "}\n",
    "print(sample)"
   ]
  },
  {
   "cell_type": "code",
   "execution_count": 64,
   "metadata": {},
   "outputs": [
    {
     "name": "stdout",
     "output_type": "stream",
     "text": [
      "For Minerva 2.0, the audit stopped with risk 0.015103083942572098\n",
      "For Minerva, the audit stopped with risk 0.015103083942572098\n",
      "For SO BRAVO, the audit stopped with risk 0.08993324014381973\n",
      "For EoR BRAVO, the audit stopped with risk 0.05051740640571271\n"
     ]
    }
   ],
   "source": [
    "# Test the stopping condition for this sample in each of the audits \n",
    "minerva2_data = [minerva2, \"Minerva 2.0\", minerva2.execute_round(first_round_size, sample)]\n",
    "minerva2_data.append(minerva2.pvalue_schedule[-1])\n",
    "minerva_data = [minerva, \"Minerva\", minerva.execute_round(first_round_size, sample)]\n",
    "minerva_data.append(minerva.pvalue_schedule[-1])\n",
    "so_bravo_data = [so_bravo, \"SO BRAVO\", so_bravo.execute_round(first_round_size, sample)]\n",
    "so_bravo_data.append(so_bravo.pvalue_schedule[-1])\n",
    "eor_bravo_data = [eor_bravo, \"EoR BRAVO\", eor_bravo.execute_round(first_round_size, sample)]\n",
    "eor_bravo_data.append(eor_bravo.pvalue_schedule[-1])\n",
    "\n",
    "data = (minerva2_data, minerva_data, so_bravo_data, eor_bravo_data)\n",
    "\n",
    "# Print results\n",
    "for audit, name, stopped, risk in data:\n",
    "    if stopped:\n",
    "        print(\"For {}, the audit stopped with risk {}\".format(name, risk))\n",
    "    else:\n",
    "        print(\"For {}, the audit did not stop. The risk was {}\".format(name, risk))\n",
    "    "
   ]
  },
  {
   "cell_type": "markdown",
   "metadata": {},
   "source": [
    "# Second round size\n",
    "If we are unlucky, we may have to escalate to another round. \n",
    "If so, here is code we could run to determine the second round size."
   ]
  },
  {
   "cell_type": "code",
   "execution_count": 65,
   "metadata": {},
   "outputs": [
    {
     "name": "stdout",
     "output_type": "stream",
     "text": [
      "First round size 213 for Minerva 2.0\n",
      "First round size 213 for Minerva\n",
      "First round size 213 for SO BRAVO\n",
      "First round size 213 for EoR BRAVO\n"
     ]
    }
   ],
   "source": [
    "minerva2_data = (minerva2, \"Minerva 2.0\", minerva2.next_sample_size(sprob))\n",
    "minerva_data = (minerva, \"Minerva\", minerva.next_sample_size(sprob))\n",
    "so_bravo_data = (so_bravo, \"SO BRAVO\", so_bravo.next_sample_size(sprob))\n",
    "eor_bravo_data = (eor_bravo, \"EoR BRAVO\", eor_bravo.next_sample_size(sprob))\n",
    "\n",
    "data = (minerva2_data, minerva_data, so_bravo_data, eor_bravo_data)\n",
    "\n",
    "# Print results\n",
    "for audit, name, first_round_size in data:\n",
    "    print(\"First round size {} for {}\".format(first_round_size, name))"
   ]
  },
  {
   "cell_type": "markdown",
   "metadata": {},
   "source": [
    "To compute further stopping conditions and round sizes, it suffices to copy the cells from prior rounds."
   ]
  }
 ],
 "metadata": {
  "interpreter": {
   "hash": "e774977668b7c0ae8309835a5187aa7fbf7669e7d0bb59755bc63e573643edcd"
  },
  "kernelspec": {
   "display_name": "Python 3.7.8 64-bit",
   "language": "python",
   "name": "python3"
  },
  "language_info": {
   "codemirror_mode": {
    "name": "ipython",
    "version": 3
   },
   "file_extension": ".py",
   "mimetype": "text/x-python",
   "name": "python",
   "nbconvert_exporter": "python",
   "pygments_lexer": "ipython3",
   "version": "3.7.8"
  },
  "orig_nbformat": 4
 },
 "nbformat": 4,
 "nbformat_minor": 2
}
