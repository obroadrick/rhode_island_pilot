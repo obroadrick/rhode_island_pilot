{
 "cells": [
  {
   "cell_type": "markdown",
   "metadata": {},
   "source": [
    "This notebook does the computations needed during the audit. It can:\n",
    "1. Compute the round size that achieves a desired stopping probability.\n",
    "2. Compute the risk for a given sample (ie. compute the stopping condition).\n",
    "\n",
    "This notebook uses the 'r2b2' open source ballot-polling audit software library:\n",
    "https://github.com/gwexploratoryaudits/r2b2"
   ]
  },
  {
   "cell_type": "code",
   "execution_count": 1,
   "metadata": {},
   "outputs": [],
   "source": [
    "# Imports\n",
    "from r2b2.contest import ContestType, Contest\n",
    "from r2b2.minerva2 import Minerva2\n",
    "from r2b2.minerva import Minerva\n",
    "from r2b2.eor_bravo import EOR_BRAVO\n",
    "from r2b2.so_bravo import SO_BRAVO\n",
    "import pandas as pd\n",
    "import numpy as np"
   ]
  },
  {
   "cell_type": "code",
   "execution_count": 2,
   "metadata": {},
   "outputs": [],
   "source": [
    "# Contest: School Construction and Renovation Projects\n",
    "# https://elections.ri.gov/publications/Election_Publications/Election_Info/LocalElections/11-2-21%20Portsmouth.pdf\n",
    "contest_name = \"\\nSchool Construction and Renovation Projects\"\n",
    "tally = {'Approve' : 2391, 'Reject' : 1414}"
   ]
  },
  {
   "cell_type": "markdown",
   "metadata": {},
   "source": [
    "Now we set the audit parameters."
   ]
  },
  {
   "cell_type": "code",
   "execution_count": 3,
   "metadata": {},
   "outputs": [
    {
     "name": "stdout",
     "output_type": "stream",
     "text": [
      "\n",
      "School Construction and Renovation Projects\n",
      "Tally: {'Approve': 2391, 'Reject': 1414}\n",
      "Total Ballots: 3805\n",
      "Margin: 0.2567674113009198\n",
      "Stopping Probability: 0.95\n",
      "Risk Limit: 0.1\n"
     ]
    },
    {
     "name": "stderr",
     "output_type": "stream",
     "text": [
      "/Users/oliver/miniconda3/lib/python3.7/site-packages/scipy/stats/_discrete_distns.py:67: RuntimeWarning: divide by zero encountered in _binom_pdf\n",
      "  return _boost._binom_pdf(x, n, p)\n"
     ]
    }
   ],
   "source": [
    "# Set the desired stopping probability for the first round\n",
    "sprob = .95\n",
    "\n",
    "# Set the risk-limit\n",
    "risk_limit = .1\n",
    "\n",
    "# Some useful constants\n",
    "reported_winner = max(tally, key=tally.get) \n",
    "winner_votes = tally[reported_winner]\n",
    "total_relevant = sum(tally.values())\n",
    "loser_votes = total_relevant - winner_votes\n",
    "margin = (winner_votes / total_relevant) - (loser_votes / total_relevant)\n",
    "\n",
    "# Make the contest object\n",
    "contest_reported = Contest(total_relevant, \n",
    "                            tally, \n",
    "                            num_winners=1, \n",
    "                            reported_winners=[reported_winner],\n",
    "                            contest_type=ContestType.PLURALITY)\n",
    "\n",
    "# Make the audit objects. While we are running a Minerva 2.0 audit, \n",
    "# we might as well compute other ballot-polling RLA numbers...                                                                                                                                                                                                                                                                                                                                                                                                                                                                                                                                                                                                                                                                                                                                                                                                                                                                                                                                                                                                                                                                                                                                                                                                                                                                                                                                                                                                                                                                                                                                                                                                                                                                                                                                                                               \n",
    "minerva2 = Minerva2(risk_limit, 1.0, contest_reported)\n",
    "minerva = Minerva(risk_limit, 1.0, contest_reported)\n",
    "so_bravo = SO_BRAVO(risk_limit, 1.0, contest_reported)\n",
    "eor_bravo = EOR_BRAVO(risk_limit, 1.0, contest_reported)\n",
    "\n",
    "# Print out the audit parameters\n",
    "print(contest_name)\n",
    "print(\"Tally: {}\".format(tally))\n",
    "print(\"Total Ballots: {}\".format(sum(tally.values())))\n",
    "print(\"Margin: {}\".format(margin))\n",
    "print(\"Stopping Probability: {}\".format(sprob))\n",
    "print(\"Risk Limit: {}\".format(risk_limit))"
   ]
  },
  {
   "cell_type": "markdown",
   "metadata": {},
   "source": [
    "# First round size\n",
    "Now let's compute the first round size!"
   ]
  },
  {
   "cell_type": "code",
   "execution_count": 4,
   "metadata": {},
   "outputs": [
    {
     "name": "stdout",
     "output_type": "stream",
     "text": [
      "First round size 135 for Minerva 2.0\n",
      "First round size 135 for Minerva\n",
      "First round size 197 for SO BRAVO\n",
      "First round size 289 for EoR BRAVO\n"
     ]
    }
   ],
   "source": [
    "minerva2_data = (minerva2, \"Minerva 2.0\", minerva2.next_sample_size(sprob))\n",
    "minerva_data = (minerva, \"Minerva\", minerva.next_sample_size(sprob))\n",
    "so_bravo_data = (so_bravo, \"SO BRAVO\", so_bravo.next_sample_size(sprob))\n",
    "eor_bravo_data = (eor_bravo, \"EoR BRAVO\", eor_bravo.next_sample_size(sprob))\n",
    "\n",
    "data = (minerva2_data, minerva_data, so_bravo_data, eor_bravo_data)\n",
    "\n",
    "# Print results\n",
    "for audit, name, first_round_size in data:\n",
    "    print(\"First round size {} for {}\".format(first_round_size, name))"
   ]
  },
  {
   "cell_type": "markdown",
   "metadata": {},
   "source": [
    "Note that Minerva 2.0 and its predecessor Minerva 1.0 are the exact same in the first round. (So the same first round size for each of them makes sense.)\n",
    "# First round stopping condition\n",
    "Now here is a skeleton of the code that will be used for computing the risk after the first round is drawn."
   ]
  },
  {
   "cell_type": "code",
   "execution_count": 5,
   "metadata": {},
   "outputs": [
    {
     "name": "stdout",
     "output_type": "stream",
     "text": [
      "81\n",
      "59\n"
     ]
    }
   ],
   "source": [
    "# let's see if we can get the selection order from the 'interim report'\n",
    "# we will test by using the interim report from Pennsylvania\n",
    "filename = 'interim-report.csv'\n",
    "df = pd.read_csv(filename)\n",
    "df.head()\n",
    "#sort = tst.sort([\"Mean\"], ascending = False)\n",
    "df = df.sort_values(by=\"Ticket Numbers\", ascending=True)\n",
    "# save dataframe as csv to send to Filip and Poorvi for cross-checking risk values\n",
    "df.to_csv('Selection-Ordered-Sample.csv', index=False) \n",
    "\n",
    "approve_so = []\n",
    "reject_so = []\n",
    "for item in df[\"Audit Result\"]: #change to name of column\n",
    "    if item == 'Approve':\n",
    "        approve_so.append(1)\n",
    "        reject_so.append(0)\n",
    "    elif item == 'Reject':\n",
    "        reject_so.append(1)\n",
    "        approve_so.append(0)\n",
    "sample = {\n",
    "    'Approve': sum(approve_so),\n",
    "    'Reject': sum(reject_so),\n",
    "    'Approve_so': approve_so,\n",
    "    'Reject_so': reject_so,\n",
    "}\n",
    "print(sample['Approve'])\n",
    "print(sample['Reject'])"
   ]
  },
  {
   "cell_type": "code",
   "execution_count": 6,
   "metadata": {},
   "outputs": [
    {
     "name": "stdout",
     "output_type": "stream",
     "text": [
      "68\n",
      "0.08993324014381973\n",
      "70\n",
      "0.09628099857708594\n",
      "77\n",
      "0.09400408167514285\n",
      "78\n",
      "0.07479831258342097\n",
      "82\n",
      "0.08572993433974455\n",
      "96\n",
      "0.0817230829239959\n",
      "105\n",
      "0.08542229046397494\n",
      "106\n",
      "0.06796984843484376\n",
      "107\n",
      "0.05408307680773298\n",
      "108\n",
      "0.07276736465821267\n",
      "109\n",
      "0.09790658505109377\n",
      "110\n",
      "0.07790350399820585\n",
      "For Minerva 2.0, the audit stopped with risk 0.0418037395884001\n",
      "For Minerva, the audit stopped with risk 0.0418037395884001\n",
      "For SO BRAVO, the audit did not stop. The risk was 0.3664311101979485\n",
      "For EoR BRAVO, the audit did not stop. The risk was 0.3664311101979485\n"
     ]
    }
   ],
   "source": [
    "# Test the stopping condition for this sample in each of the audits \n",
    "minerva2_data = [minerva2, \"Minerva 2.0\", minerva2.execute_round(first_round_size, sample)]\n",
    "minerva2_data.append(minerva2.pvalue_schedule[-1])\n",
    "minerva_data = [minerva, \"Minerva\", minerva.execute_round(first_round_size, sample)]\n",
    "minerva_data.append(minerva.pvalue_schedule[-1])\n",
    "so_bravo_data = [so_bravo, \"SO BRAVO\", so_bravo.execute_round(first_round_size, sample)]\n",
    "so_bravo_data.append(so_bravo.pvalue_schedule[-1])\n",
    "eor_bravo_data = [eor_bravo, \"EoR BRAVO\", eor_bravo.execute_round(first_round_size, sample)]\n",
    "eor_bravo_data.append(eor_bravo.pvalue_schedule[-1])\n",
    "\n",
    "\n",
    "data = (minerva2_data, minerva_data, so_bravo_data, eor_bravo_data)\n",
    "\n",
    "# Print results\n",
    "for audit, name, stopped, risk in data:\n",
    "    if stopped:\n",
    "        print(\"For {}, the audit stopped with risk {}\".format(name, risk))\n",
    "    else:\n",
    "        print(\"For {}, the audit did not stop. The risk was {}\".format(name, risk))\n",
    "    "
   ]
  },
  {
   "cell_type": "code",
   "execution_count": 7,
   "metadata": {},
   "outputs": [
    {
     "name": "stdout",
     "output_type": "stream",
     "text": [
      "Second round size 289 for Minerva 2.0\n",
      "Second round size 289 for Minerva\n"
     ]
    },
    {
     "ename": "ValueError",
     "evalue": "too many values to unpack (expected 3)",
     "output_type": "error",
     "traceback": [
      "\u001b[0;31m---------------------------------------------------------------------------\u001b[0m",
      "\u001b[0;31mValueError\u001b[0m                                Traceback (most recent call last)",
      "\u001b[0;32m<ipython-input-7-bb2ea3dcc5eb>\u001b[0m in \u001b[0;36m<module>\u001b[0;34m\u001b[0m\n\u001b[1;32m      7\u001b[0m \u001b[0;34m\u001b[0m\u001b[0m\n\u001b[1;32m      8\u001b[0m \u001b[0;31m# Print results\u001b[0m\u001b[0;34m\u001b[0m\u001b[0;34m\u001b[0m\u001b[0;34m\u001b[0m\u001b[0m\n\u001b[0;32m----> 9\u001b[0;31m \u001b[0;32mfor\u001b[0m \u001b[0maudit\u001b[0m\u001b[0;34m,\u001b[0m \u001b[0mname\u001b[0m\u001b[0;34m,\u001b[0m \u001b[0mfirst_round_size\u001b[0m \u001b[0;32min\u001b[0m \u001b[0mdata\u001b[0m\u001b[0;34m:\u001b[0m\u001b[0;34m\u001b[0m\u001b[0;34m\u001b[0m\u001b[0m\n\u001b[0m\u001b[1;32m     10\u001b[0m     \u001b[0mprint\u001b[0m\u001b[0;34m(\u001b[0m\u001b[0;34m\"Second round size {} for {}\"\u001b[0m\u001b[0;34m.\u001b[0m\u001b[0mformat\u001b[0m\u001b[0;34m(\u001b[0m\u001b[0mfirst_round_size\u001b[0m\u001b[0;34m,\u001b[0m \u001b[0mname\u001b[0m\u001b[0;34m)\u001b[0m\u001b[0;34m)\u001b[0m\u001b[0;34m\u001b[0m\u001b[0;34m\u001b[0m\u001b[0m\n",
      "\u001b[0;31mValueError\u001b[0m: too many values to unpack (expected 3)"
     ]
    }
   ],
   "source": [
    "minerva2_data = (minerva2, \"Minerva 2.0\", minerva2.next_sample_size(sprob))\n",
    "minerva_data = (minerva, \"Minerva\", minerva.next_sample_size(sprob))\n",
    "#so_bravo_data = (so_bravo, \"SO BRAVO\", so_bravo.next_sample_size(sprob))\n",
    "eor_bravo_data = (eor_bravo, \"EoR BRAVO\", eor_bravo.next_sample_size(sprob))\n",
    "\n",
    "data = (minerva2_data, minerva_data, so_bravo_data, eor_bravo_data)\n",
    "\n",
    "# Print results\n",
    "for audit, name, first_round_size in data:\n",
    "    print(\"Second round size {} for {}\".format(first_round_size, name))"
   ]
  },
  {
   "cell_type": "markdown",
   "metadata": {},
   "source": [
    "To compute further stopping conditions and round sizes, it suffices to copy the cells from prior rounds."
   ]
  },
  {
   "cell_type": "code",
   "execution_count": null,
   "metadata": {},
   "outputs": [],
   "source": []
  },
  {
   "cell_type": "code",
   "execution_count": null,
   "metadata": {},
   "outputs": [],
   "source": []
  },
  {
   "cell_type": "code",
   "execution_count": null,
   "metadata": {},
   "outputs": [],
   "source": []
  },
  {
   "cell_type": "code",
   "execution_count": 9,
   "metadata": {},
   "outputs": [
    {
     "name": "stdout",
     "output_type": "stream",
     "text": [
      "66 41\n",
      "[0.015580394460039476]\n"
     ]
    }
   ],
   "source": [
    "\n",
    "s = {\n",
    "    'Approve': sum(sample['Approve_so'][0:107]),\n",
    "    'Reject': sum(sample['Reject_so'][0:107]),\n",
    "}\n",
    "print(s['Approve'], s['Reject'])\n",
    "a = Minerva(risk_limit, 1.0, contest_reported)\n",
    "a.execute_round(107, s)\n",
    "print(a.pvalue_schedule)"
   ]
  },
  {
   "cell_type": "code",
   "execution_count": null,
   "metadata": {},
   "outputs": [],
   "source": []
  }
 ],
 "metadata": {
  "interpreter": {
   "hash": "e774977668b7c0ae8309835a5187aa7fbf7669e7d0bb59755bc63e573643edcd"
  },
  "kernelspec": {
   "display_name": "Python 3",
   "language": "python",
   "name": "python3"
  },
  "language_info": {
   "codemirror_mode": {
    "name": "ipython",
    "version": 3
   },
   "file_extension": ".py",
   "mimetype": "text/x-python",
   "name": "python",
   "nbconvert_exporter": "python",
   "pygments_lexer": "ipython3",
   "version": "3.7.11"
  }
 },
 "nbformat": 4,
 "nbformat_minor": 4
}
