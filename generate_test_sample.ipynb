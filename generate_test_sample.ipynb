{
 "cells": [
  {
   "cell_type": "markdown",
   "metadata": {},
   "source": [
    "Before the pilot begins, it will be useful to test these notebooks with fake samples.\n",
    "To have realistic test samples, we will use a pseudorandom number generator."
   ]
  },
  {
   "cell_type": "code",
   "execution_count": 5,
   "metadata": {},
   "outputs": [],
   "source": [
    "# Imports\n",
    "import numpy as np\n",
    "import csv"
   ]
  },
  {
   "cell_type": "code",
   "execution_count": 3,
   "metadata": {},
   "outputs": [],
   "source": [
    "# Contest information:\n",
    "# Contest: School Construction and Renovation Projects\n",
    "# Link to results: https://elections.ri.gov/publications/Election_Publications/Election_Info/LocalElections/11-2-21%20Portsmouth.pdf\n",
    "contest_name = \"\\nSchool Construction and Renovation Projects\"\n",
    "tally = {'Approve' : 2391, 'Reject' : 1414}\n",
    "p = tally['Approve'] / (tally['Approve'] + tally['Reject'])"
   ]
  },
  {
   "cell_type": "code",
   "execution_count": 13,
   "metadata": {},
   "outputs": [],
   "source": [
    "def generate_test_sample(sample_size):\n",
    "    with open('./test_sample_.csv', 'w') as f:\n",
    "        writer = csv.writer(f)\n",
    "        writer.writerow(['index','Approve','Reject'])\n",
    "        for i in range(sample_size):\n",
    "            r = np.random.random()\n",
    "            if r < p:\n",
    "                writer.writerow([i, 1, 0])\n",
    "            else:\n",
    "                writer.writerow([i, 0, 1])"
   ]
  },
  {
   "cell_type": "code",
   "execution_count": 16,
   "metadata": {},
   "outputs": [],
   "source": [
    "np.random.seed(3141)\n",
    "generate_test_sample(105)"
   ]
  }
 ],
 "metadata": {
  "interpreter": {
   "hash": "e774977668b7c0ae8309835a5187aa7fbf7669e7d0bb59755bc63e573643edcd"
  },
  "kernelspec": {
   "display_name": "Python 3.7.8 64-bit",
   "language": "python",
   "name": "python3"
  },
  "language_info": {
   "codemirror_mode": {
    "name": "ipython",
    "version": 3
   },
   "file_extension": ".py",
   "mimetype": "text/x-python",
   "name": "python",
   "nbconvert_exporter": "python",
   "pygments_lexer": "ipython3",
   "version": "3.7.8"
  },
  "orig_nbformat": 4
 },
 "nbformat": 4,
 "nbformat_minor": 2
}
